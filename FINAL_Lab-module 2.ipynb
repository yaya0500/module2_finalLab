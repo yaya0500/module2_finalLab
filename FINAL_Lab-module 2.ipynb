{
  "metadata": {
    "language_info": {
      "codemirror_mode": {
        "name": "python",
        "version": 3
      },
      "file_extension": ".py",
      "mimetype": "text/x-python",
      "name": "python",
      "nbconvert_exporter": "python",
      "pygments_lexer": "ipython3",
      "version": "3.8"
    },
    "kernelspec": {
      "name": "python",
      "display_name": "Pyolite",
      "language": "python"
    }
  },
  "nbformat_minor": 4,
  "nbformat": 4,
  "cells": [
    {
      "cell_type": "markdown",
      "source": "# My Jupyter Notebook on IBM Watson Studio",
      "metadata": {
        "tags": []
      }
    },
    {
      "cell_type": "markdown",
      "source": "**Ananka Ashwin**",
      "metadata": {}
    },
    {
      "cell_type": "markdown",
      "source": "I currently work as a tech analyst",
      "metadata": {}
    },
    {
      "cell_type": "markdown",
      "source": "### The code in cell 5 should compute a math equation",
      "metadata": {}
    },
    {
      "cell_type": "code",
      "source": "(4*2)+5",
      "metadata": {
        "trusted": true
      },
      "execution_count": 1,
      "outputs": [
        {
          "execution_count": 1,
          "output_type": "execute_result",
          "data": {
            "text/plain": "13"
          },
          "metadata": {}
        }
      ]
    },
    {
      "cell_type": "markdown",
      "source": "---\n| Fruit     | Qty   | Cost  |\n| --------- |:-----:| :----:|\n| Apple.    | 4 |$15|\n| Banana.   | 2 |$5|\n| Orange.   | 1 |$3|\n\n~GOOD~ GREAT PRICES!\n\n1. I like fruits\n2. Apples are red\n3. Lemons are sour",
      "metadata": {}
    },
    {
      "cell_type": "code",
      "source": "",
      "metadata": {},
      "execution_count": null,
      "outputs": []
    }
  ]
}